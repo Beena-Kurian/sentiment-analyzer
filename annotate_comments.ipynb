{
 "cells": [
  {
   "cell_type": "code",
   "execution_count": 1,
   "metadata": {},
   "outputs": [],
   "source": [
    "#install, !pip install transformers torch\n",
    "#install, !pip3 install emoji==0.6.0"
   ]
  },
  {
   "cell_type": "code",
   "execution_count": 2,
   "metadata": {},
   "outputs": [
    {
     "name": "stdout",
     "output_type": "stream",
     "text": [
      "WARNING:tensorflow:From C:\\Users\\beena\\AppData\\Local\\Packages\\PythonSoftwareFoundation.Python.3.11_qbz5n2kfra8p0\\LocalCache\\local-packages\\Python311\\site-packages\\keras\\src\\losses.py:2976: The name tf.losses.sparse_softmax_cross_entropy is deprecated. Please use tf.compat.v1.losses.sparse_softmax_cross_entropy instead.\n",
      "\n"
     ]
    }
   ],
   "source": [
    "import pandas as pd\n",
    "from transformers import pipeline"
   ]
  },
  {
   "cell_type": "code",
   "execution_count": 3,
   "metadata": {},
   "outputs": [
    {
     "name": "stdout",
     "output_type": "stream",
     "text": [
      "Columns in DataFrame:\n",
      "Index(['body', 'score'], dtype='object')\n"
     ]
    }
   ],
   "source": [
    "# Load JSON file into a Pandas DataFrame\n",
    "file_path = 'C:/Users/beena/conestoga_aiml/mlp/lab1-introductiontogithub-bkurian6601/project_v2/reddit_comments_data.json'\n",
    "df = pd.read_json(file_path)\n",
    "\n",
    "# Display the columns in the DataFrame\n",
    "print(\"Columns in DataFrame:\")\n",
    "print(df.columns)\n",
    "\n",
    "# model for annotations\n",
    "model_name = \"finiteautomata/bertweet-base-sentiment-analysis\"\n",
    "sentiment_analyzer = pipeline(\"sentiment-analysis\", model=model_name)\n",
    "\n",
    "# Define the maximum sequence length supported by the model\n",
    "max_sequence_length = 128  \n",
    "min_sequence_length = 5  \n",
    "\n",
    "# Filter comments based on sequence length(between max and min)\n",
    "df['comment_length'] = df['body'].apply(len)\n",
    "df_filtered = df[(df['comment_length'] >= min_sequence_length) & (df['comment_length'] <= max_sequence_length)].copy()\n",
    "\n",
    "# Apply the sentiment analysis to each comment and store the results in a new column 'predicted_sentiment'\n",
    "df_filtered['predicted_sentiment'] = df_filtered['body'].apply(lambda x: sentiment_analyzer(x)[0]['label'])\n"
   ]
  },
  {
   "cell_type": "code",
   "execution_count": 4,
   "metadata": {},
   "outputs": [
    {
     "name": "stdout",
     "output_type": "stream",
     "text": [
      "\n",
      "Final DataFrame with Annotated Sentiments:\n"
     ]
    },
    {
     "data": {
      "text/html": [
       "<div>\n",
       "<style scoped>\n",
       "    .dataframe tbody tr th:only-of-type {\n",
       "        vertical-align: middle;\n",
       "    }\n",
       "\n",
       "    .dataframe tbody tr th {\n",
       "        vertical-align: top;\n",
       "    }\n",
       "\n",
       "    .dataframe thead th {\n",
       "        text-align: right;\n",
       "    }\n",
       "</style>\n",
       "<table border=\"1\" class=\"dataframe\">\n",
       "  <thead>\n",
       "    <tr style=\"text-align: right;\">\n",
       "      <th></th>\n",
       "      <th>body</th>\n",
       "      <th>predicted_sentiment</th>\n",
       "    </tr>\n",
       "  </thead>\n",
       "  <tbody>\n",
       "    <tr>\n",
       "      <th>5</th>\n",
       "      <td>Well there are thousands of international stud...</td>\n",
       "      <td>NEG</td>\n",
       "    </tr>\n",
       "    <tr>\n",
       "      <th>7</th>\n",
       "      <td>The article said dude needed a translator lol ...</td>\n",
       "      <td>NEG</td>\n",
       "    </tr>\n",
       "    <tr>\n",
       "      <th>13</th>\n",
       "      <td>For those convicted of crimes, that’s good</td>\n",
       "      <td>POS</td>\n",
       "    </tr>\n",
       "    <tr>\n",
       "      <th>14</th>\n",
       "      <td>Good. Gotta bump up those rookie numbers.</td>\n",
       "      <td>POS</td>\n",
       "    </tr>\n",
       "    <tr>\n",
       "      <th>15</th>\n",
       "      <td>Good.</td>\n",
       "      <td>POS</td>\n",
       "    </tr>\n",
       "    <tr>\n",
       "      <th>...</th>\n",
       "      <td>...</td>\n",
       "      <td>...</td>\n",
       "    </tr>\n",
       "    <tr>\n",
       "      <th>14216</th>\n",
       "      <td>I like you. Big fan.</td>\n",
       "      <td>POS</td>\n",
       "    </tr>\n",
       "    <tr>\n",
       "      <th>14218</th>\n",
       "      <td>Sounds like date night around here ☹️</td>\n",
       "      <td>POS</td>\n",
       "    </tr>\n",
       "    <tr>\n",
       "      <th>14219</th>\n",
       "      <td>Apparently the answer was yes</td>\n",
       "      <td>NEU</td>\n",
       "    </tr>\n",
       "    <tr>\n",
       "      <th>14220</th>\n",
       "      <td>But with maaaaaassssksssss</td>\n",
       "      <td>NEU</td>\n",
       "    </tr>\n",
       "    <tr>\n",
       "      <th>14221</th>\n",
       "      <td>Omg hes writing like its an email lmao thats s...</td>\n",
       "      <td>POS</td>\n",
       "    </tr>\n",
       "  </tbody>\n",
       "</table>\n",
       "<p>6908 rows × 2 columns</p>\n",
       "</div>"
      ],
      "text/plain": [
       "                                                    body predicted_sentiment\n",
       "5      Well there are thousands of international stud...                 NEG\n",
       "7      The article said dude needed a translator lol ...                 NEG\n",
       "13            For those convicted of crimes, that’s good                 POS\n",
       "14             Good. Gotta bump up those rookie numbers.                 POS\n",
       "15                                                 Good.                 POS\n",
       "...                                                  ...                 ...\n",
       "14216                               I like you. Big fan.                 POS\n",
       "14218              Sounds like date night around here ☹️                 POS\n",
       "14219                      Apparently the answer was yes                 NEU\n",
       "14220                         But with maaaaaassssksssss                 NEU\n",
       "14221  Omg hes writing like its an email lmao thats s...                 POS\n",
       "\n",
       "[6908 rows x 2 columns]"
      ]
     },
     "execution_count": 4,
     "metadata": {},
     "output_type": "execute_result"
    }
   ],
   "source": [
    "# the final DataFrame with comments and predicted sentiments\n",
    "print(\"\\nFinal DataFrame with Annotated Sentiments:\")\n",
    "df_filtered[['body', 'predicted_sentiment']]\n"
   ]
  },
  {
   "cell_type": "code",
   "execution_count": 5,
   "metadata": {},
   "outputs": [],
   "source": [
    "\n",
    "df_filtered.to_csv('final_dataset.csv', index=False)"
   ]
  },
  {
   "cell_type": "code",
   "execution_count": 6,
   "metadata": {},
   "outputs": [
    {
     "data": {
      "text/plain": [
       "Index(['body', 'score', 'comment_length', 'predicted_sentiment'], dtype='object')"
      ]
     },
     "execution_count": 6,
     "metadata": {},
     "output_type": "execute_result"
    }
   ],
   "source": [
    "df_filtered.columns"
   ]
  }
 ],
 "metadata": {
  "kernelspec": {
   "display_name": "Python 3",
   "language": "python",
   "name": "python3"
  },
  "language_info": {
   "codemirror_mode": {
    "name": "ipython",
    "version": 3
   },
   "file_extension": ".py",
   "mimetype": "text/x-python",
   "name": "python",
   "nbconvert_exporter": "python",
   "pygments_lexer": "ipython3",
   "version": "3.11.7"
  }
 },
 "nbformat": 4,
 "nbformat_minor": 2
}
