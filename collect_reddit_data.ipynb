{
 "cells": [
  {
   "cell_type": "code",
   "execution_count": 5,
   "metadata": {},
   "outputs": [],
   "source": [
    "#!pip install praw"
   ]
  },
  {
   "cell_type": "code",
   "execution_count": 7,
   "metadata": {},
   "outputs": [
    {
     "name": "stdout",
     "output_type": "stream",
     "text": [
      "Comments data saved to reddit_comments_data.json\n"
     ]
    }
   ],
   "source": [
    "import praw\n",
    "import json\n",
    "import time\n",
    "\n",
    "# Set up your Reddit API credentials\n",
    "reddit = praw.Reddit(client_id='sqNe_U2aY_fbtD167d6U1g',\n",
    "                     client_secret='Lv9_DIIX3fyxH5FaU0Sb3hWu3O7dvA',\n",
    "                     user_agent='MLP_DATASET by /u/MLP__PROJECT_10')\n",
    "\n",
    "# the subreddit to gather data from\n",
    "subreddit_name = 'Canada'\n",
    "subreddit = reddit.subreddit(subreddit_name)\n",
    "\n",
    "# Number of posts from where comments are going to extract\n",
    "num_posts = 100\n",
    "\n",
    "# List to store comments data\n",
    "comments_data = []\n",
    "\n",
    "# Fetch posts from the subreddit\n",
    "for submission in subreddit.hot(limit=num_posts):\n",
    "    # Fetch comments for the post\n",
    "    submission.comments.replace_more(limit=None)\n",
    "    comments_data.extend([{'body': comment.body, 'score': comment.score} for comment in submission.comments.list()])\n",
    "    time.sleep(5)\n",
    "\n",
    "# Save the collected comments data to a JSON file\n",
    "output_file_path = 'reddit_comments_data.json'\n",
    "with open(output_file_path, 'w') as json_file:\n",
    "    json.dump(comments_data, json_file, indent=4)\n",
    "\n",
    "print(f'Comments data saved to {output_file_path}')"
   ]
  }
 ],
 "metadata": {
  "kernelspec": {
   "display_name": "Python 3",
   "language": "python",
   "name": "python3"
  },
  "language_info": {
   "codemirror_mode": {
    "name": "ipython",
    "version": 3
   },
   "file_extension": ".py",
   "mimetype": "text/x-python",
   "name": "python",
   "nbconvert_exporter": "python",
   "pygments_lexer": "ipython3",
   "version": "3.11.7"
  }
 },
 "nbformat": 4,
 "nbformat_minor": 2
}
