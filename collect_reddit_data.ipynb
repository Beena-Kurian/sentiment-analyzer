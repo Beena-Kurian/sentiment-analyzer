{
 "cells": [
  {
   "cell_type": "code",
   "execution_count": 5,
   "metadata": {},
   "outputs": [],
   "source": [
    "#!pip install praw"
   ]
  },
  {
   "cell_type": "code",
   "execution_count": 7,
   "metadata": {},
   "outputs": [
    {
     "name": "stdout",
     "output_type": "stream",
     "text": [
      "Comments data saved to reddit_comments_data.json\n"
     ]
    }
   ],
   "source": [
    "import praw\n",
    "import json\n",
    "import time\n",
    "\n",
    "# **Before running this notebook**, please set up your Reddit API credentials.\n",
    "# Follow these steps to obtain your credentials:\n",
    "# 1. Create a Reddit Account: If you don't have one already, create a Reddit account.\n",
    "# 2. Create a Reddit Application:\n",
    "#    - Go to Reddit Apps: https://www.reddit.com/prefs/apps.\n",
    "#    - Click on the \"Create App\" or \"Create Another App\" button.\n",
    "#    - Fill out the required fields such as name, description, and redirect URI. \n",
    "#      For the redirect URI, you can use http://localhost:8080 if you're not planning to implement OAuth2 authorization.\n",
    "#    - Choose the type of application. For this project, select \"script\".\n",
    "#    - Click on the \"Create App\" button.\n",
    "# 3. Obtain API Credentials:\n",
    "#    - After creating the Reddit application, you'll see your client_id and client_secret.These are your API credentials.\n",
    "#    - Copy the client_id and client_secret values.\n",
    "# 4. Replace the placeholder values in the cell below with your actual client_id, client_secret, and user_agent('MyRedditApp/1.0 by /u/MyRedditUsername').\n",
    "\n",
    "# Set up your Reddit API credentials\n",
    "reddit = praw.Reddit(client_id='your_client_id',\n",
    "                     client_secret='your_client_secret',\n",
    "                     user_agent='your_user_agent')\n",
    "\n",
    "# the subreddit to gather data from\n",
    "subreddit_name = 'Canada'\n",
    "subreddit = reddit.subreddit(subreddit_name)\n",
    "\n",
    "# Number of posts from where comments are going to extract\n",
    "num_posts = 100\n",
    "\n",
    "# List to store comments data\n",
    "comments_data = []\n",
    "\n",
    "# Fetch posts from the subreddit\n",
    "for submission in subreddit.hot(limit=num_posts):\n",
    "    # Fetch comments for the post\n",
    "    submission.comments.replace_more(limit=None)\n",
    "    comments_data.extend([{'body': comment.body, 'score': comment.score} for comment in submission.comments.list()])\n",
    "    time.sleep(5)\n",
    "\n",
    "# Save the collected comments data to a JSON file\n",
    "output_file_path = 'reddit_comments_data.json'\n",
    "with open(output_file_path, 'w') as json_file:\n",
    "    json.dump(comments_data, json_file, indent=4)\n",
    "\n",
    "print(f'Comments data saved to {output_file_path}')\n"
   ]
  }
 ],
 "metadata": {
  "kernelspec": {
   "display_name": "Python 3",
   "language": "python",
   "name": "python3"
  },
  "language_info": {
   "codemirror_mode": {
    "name": "ipython",
    "version": 3
   },
   "file_extension": ".py",
   "mimetype": "text/x-python",
   "name": "python",
   "nbconvert_exporter": "python",
   "pygments_lexer": "ipython3",
   "version": "3.11.7"
  }
 },
 "nbformat": 4,
 "nbformat_minor": 2
}
